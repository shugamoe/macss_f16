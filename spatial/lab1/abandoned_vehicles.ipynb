{
 "cells": [
  {
   "cell_type": "markdown",
   "metadata": {},
   "source": [
    "# Abandoned Vehicles as Points\n",
    "\n",
    "by Luc Anselin (anselin@uchicago.edu) (8/22/2016)\n",
    "\n",
    "Creating a csv file with the latitude and longitude of abandoned vehicles in Chicago. Data from the \n",
    "Chicago open data portal.\n",
    "\n",
    "Note: this is written with R beginners in mind, more seasoned R users can probably skip most of the comments.\n",
    "\n",
    "For more extensive details about each function, see the R (or RStudio) help files.\n",
    "\n",
    "Packages used:\n",
    "\n",
    "- **lubridate**"
   ]
  },
  {
   "cell_type": "markdown",
   "metadata": {},
   "source": [
    "### Read the csv file and turn into a data frame"
   ]
  },
  {
   "cell_type": "markdown",
   "metadata": {},
   "source": [
    "- use the command **read.csv**"
   ]
  },
  {
   "cell_type": "code",
   "execution_count": 1,
   "metadata": {
    "collapsed": true
   },
   "outputs": [],
   "source": [
    "vehicall <- read.csv(\"Abandoned_Vehicles_Map.csv\")"
   ]
  },
  {
   "cell_type": "markdown",
   "metadata": {},
   "source": [
    "Check on the variable names (column headings) and check on the first few lines of the table, just to make sure all is well.\n",
    "\n",
    "- use **names** to get the variable names\n",
    "\n",
    "- use **head** to list the first few lines"
   ]
  },
  {
   "cell_type": "code",
   "execution_count": 2,
   "metadata": {
    "collapsed": false
   },
   "outputs": [
    {
     "data": {
      "text/html": [
       "<ol class=list-inline>\n",
       "\t<li>'Creation.Date'</li>\n",
       "\t<li>'Status'</li>\n",
       "\t<li>'Completion.Date'</li>\n",
       "\t<li>'Service.Request.Number'</li>\n",
       "\t<li>'Type.of.Service.Request'</li>\n",
       "\t<li>'License.Plate'</li>\n",
       "\t<li>'Vehicle.Make.Model'</li>\n",
       "\t<li>'Vehicle.Color'</li>\n",
       "\t<li>'Current.Activity'</li>\n",
       "\t<li>'Most.Recent.Action'</li>\n",
       "\t<li>'How.Many.Days.Has.the.Vehicle.Been.Reported.as.Parked.'</li>\n",
       "\t<li>'Street.Address'</li>\n",
       "\t<li>'ZIP.Code'</li>\n",
       "\t<li>'X.Coordinate'</li>\n",
       "\t<li>'Y.Coordinate'</li>\n",
       "\t<li>'Ward'</li>\n",
       "\t<li>'Police.District'</li>\n",
       "\t<li>'Community.Area'</li>\n",
       "\t<li>'Latitude'</li>\n",
       "\t<li>'Longitude'</li>\n",
       "\t<li>'Location'</li>\n",
       "</ol>\n"
      ],
      "text/latex": [
       "\\begin{enumerate*}\n",
       "\\item 'Creation.Date'\n",
       "\\item 'Status'\n",
       "\\item 'Completion.Date'\n",
       "\\item 'Service.Request.Number'\n",
       "\\item 'Type.of.Service.Request'\n",
       "\\item 'License.Plate'\n",
       "\\item 'Vehicle.Make.Model'\n",
       "\\item 'Vehicle.Color'\n",
       "\\item 'Current.Activity'\n",
       "\\item 'Most.Recent.Action'\n",
       "\\item 'How.Many.Days.Has.the.Vehicle.Been.Reported.as.Parked.'\n",
       "\\item 'Street.Address'\n",
       "\\item 'ZIP.Code'\n",
       "\\item 'X.Coordinate'\n",
       "\\item 'Y.Coordinate'\n",
       "\\item 'Ward'\n",
       "\\item 'Police.District'\n",
       "\\item 'Community.Area'\n",
       "\\item 'Latitude'\n",
       "\\item 'Longitude'\n",
       "\\item 'Location'\n",
       "\\end{enumerate*}\n"
      ],
      "text/markdown": [
       "1. 'Creation.Date'\n",
       "2. 'Status'\n",
       "3. 'Completion.Date'\n",
       "4. 'Service.Request.Number'\n",
       "5. 'Type.of.Service.Request'\n",
       "6. 'License.Plate'\n",
       "7. 'Vehicle.Make.Model'\n",
       "8. 'Vehicle.Color'\n",
       "9. 'Current.Activity'\n",
       "10. 'Most.Recent.Action'\n",
       "11. 'How.Many.Days.Has.the.Vehicle.Been.Reported.as.Parked.'\n",
       "12. 'Street.Address'\n",
       "13. 'ZIP.Code'\n",
       "14. 'X.Coordinate'\n",
       "15. 'Y.Coordinate'\n",
       "16. 'Ward'\n",
       "17. 'Police.District'\n",
       "18. 'Community.Area'\n",
       "19. 'Latitude'\n",
       "20. 'Longitude'\n",
       "21. 'Location'\n",
       "\n",
       "\n"
      ],
      "text/plain": [
       " [1] \"Creation.Date\"                                         \n",
       " [2] \"Status\"                                                \n",
       " [3] \"Completion.Date\"                                       \n",
       " [4] \"Service.Request.Number\"                                \n",
       " [5] \"Type.of.Service.Request\"                               \n",
       " [6] \"License.Plate\"                                         \n",
       " [7] \"Vehicle.Make.Model\"                                    \n",
       " [8] \"Vehicle.Color\"                                         \n",
       " [9] \"Current.Activity\"                                      \n",
       "[10] \"Most.Recent.Action\"                                    \n",
       "[11] \"How.Many.Days.Has.the.Vehicle.Been.Reported.as.Parked.\"\n",
       "[12] \"Street.Address\"                                        \n",
       "[13] \"ZIP.Code\"                                              \n",
       "[14] \"X.Coordinate\"                                          \n",
       "[15] \"Y.Coordinate\"                                          \n",
       "[16] \"Ward\"                                                  \n",
       "[17] \"Police.District\"                                       \n",
       "[18] \"Community.Area\"                                        \n",
       "[19] \"Latitude\"                                              \n",
       "[20] \"Longitude\"                                             \n",
       "[21] \"Location\"                                              "
      ]
     },
     "metadata": {},
     "output_type": "display_data"
    }
   ],
   "source": [
    "names(vehicall)"
   ]
  },
  {
   "cell_type": "code",
   "execution_count": 3,
   "metadata": {
    "collapsed": false
   },
   "outputs": [
    {
     "data": {
      "text/html": [
       "<table>\n",
       "<thead><tr><th scope=col>Creation.Date</th><th scope=col>Status</th><th scope=col>Completion.Date</th><th scope=col>Service.Request.Number</th><th scope=col>Type.of.Service.Request</th><th scope=col>License.Plate</th><th scope=col>Vehicle.Make.Model</th><th scope=col>Vehicle.Color</th><th scope=col>Current.Activity</th><th scope=col>Most.Recent.Action</th><th scope=col>⋯</th><th scope=col>Street.Address</th><th scope=col>ZIP.Code</th><th scope=col>X.Coordinate</th><th scope=col>Y.Coordinate</th><th scope=col>Ward</th><th scope=col>Police.District</th><th scope=col>Community.Area</th><th scope=col>Latitude</th><th scope=col>Longitude</th><th scope=col>Location</th></tr></thead>\n",
       "<tbody>\n",
       "\t<tr><td>01/01/2011                                         </td><td>Completed - Dup                                    </td><td>01/07/2011                                         </td><td>11-00002767                                        </td><td>Abandoned Vehicle Complaint                        </td><td>0000000000                                         </td><td>Jeep/Cherokee                                      </td><td>Red                                                </td><td>                                                   </td><td>                                                   </td><td>⋯                                                  </td><td>5629 N KEDVALE AVE                                 </td><td>60646                                              </td><td>1147717                                            </td><td>1937054                                            </td><td>39                                                 </td><td>17                                                 </td><td>13                                                 </td><td>41.98368                                           </td><td>-87.73197                                          </td><td>(41.983680361597564, -87.7319663736746)            </td></tr>\n",
       "\t<tr><td>01/01/2011                                         </td><td>Completed - Dup                                    </td><td>01/07/2011                                         </td><td>11-00002779                                        </td><td>Abandoned Vehicle Complaint                        </td><td>REAR PLATE STARTS W/848 AND FRONT PLATE STARTS W/ K</td><td>Isuzu                                              </td><td>Red                                                </td><td>                                                   </td><td>                                                   </td><td>⋯                                                  </td><td>5629 N KEDVALE AVE                                 </td><td>60646                                              </td><td>1147717                                            </td><td>1937054                                            </td><td>39                                                 </td><td>17                                                 </td><td>13                                                 </td><td>41.98368                                           </td><td>-87.73197                                          </td><td>(41.983680361597564, -87.7319663736746)            </td></tr>\n",
       "\t<tr><td>01/01/2011                                         </td><td>Completed - Dup                                    </td><td>01/20/2011                                         </td><td>11-00003001                                        </td><td>Abandoned Vehicle Complaint                        </td><td>9381880                                            </td><td>Toyota                                             </td><td>Silver                                             </td><td>                                                   </td><td>                                                   </td><td>⋯                                                  </td><td>2053 N KILBOURN AVE                                </td><td>60639                                              </td><td>1146056                                            </td><td>1913269                                            </td><td>31                                                 </td><td>25                                                 </td><td>20                                                 </td><td>41.91859                                           </td><td>-87.73868                                          </td><td>(41.91858774162382, -87.73868431751842)            </td></tr>\n",
       "\t<tr><td>01/01/2011                                         </td><td>Completed - Dup                                    </td><td>01/21/2011                                         </td><td>11-00003309                                        </td><td>Abandoned Vehicle Complaint                        </td><td>MI S CS860                                         </td><td>Jeep/Cherokee                                      </td><td>Gold                                               </td><td>                                                   </td><td>                                                   </td><td>⋯                                                  </td><td>736 W BUENA AVE                                    </td><td>60613                                              </td><td>1170576                                            </td><td>1928214                                            </td><td>46                                                 </td><td>23                                                 </td><td> 3                                                 </td><td>41.95861                                           </td><td>-87.64888                                          </td><td>(41.95860696269331, -87.64887590959788)            </td></tr>\n",
       "\t<tr><td>01/01/2011                                         </td><td>Completed - Dup                                    </td><td>01/21/2011                                         </td><td>11-00003316                                        </td><td>Abandoned Vehicle Complaint                        </td><td>MI SCS860                                          </td><td>                                                   </td><td>Gold                                               </td><td>                                                   </td><td>                                                   </td><td>⋯                                                  </td><td>736 W BUENA AVE                                    </td><td>60613                                              </td><td>1170576                                            </td><td>1928214                                            </td><td>46                                                 </td><td>23                                                 </td><td> 3                                                 </td><td>41.95861                                           </td><td>-87.64888                                          </td><td>(41.95860696269331, -87.64887590959788)            </td></tr>\n",
       "\t<tr><td>01/01/2011                                         </td><td>Completed                                          </td><td>01/05/2011                                         </td><td>11-00001976                                        </td><td>Abandoned Vehicle Complaint                        </td><td>H924236                                            </td><td>Ford                                               </td><td>White                                              </td><td>                                                   </td><td>                                                   </td><td>⋯                                                  </td><td>6059 S KOMENSKY AVE                                </td><td>60629                                              </td><td>1150408                                            </td><td>1864110                                            </td><td>13                                                 </td><td> 8                                                 </td><td>65                                                 </td><td>41.78237                                           </td><td>-87.72394                                          </td><td>(41.78237428405976, -87.72394038021173)            </td></tr>\n",
       "</tbody>\n",
       "</table>\n"
      ],
      "text/latex": [
       "\\begin{tabular}{r|lllllllllllllllllllll}\n",
       " Creation.Date & Status & Completion.Date & Service.Request.Number & Type.of.Service.Request & License.Plate & Vehicle.Make.Model & Vehicle.Color & Current.Activity & Most.Recent.Action & ⋯ & Street.Address & ZIP.Code & X.Coordinate & Y.Coordinate & Ward & Police.District & Community.Area & Latitude & Longitude & Location\\\\\n",
       "\\hline\n",
       "\t 01/01/2011                                          & Completed - Dup                                     & 01/07/2011                                          & 11-00002767                                         & Abandoned Vehicle Complaint                         & 0000000000                                          & Jeep/Cherokee                                       & Red                                                 &                                                     &                                                     & ⋯                                                   & 5629 N KEDVALE AVE                                  & 60646                                               & 1147717                                             & 1937054                                             & 39                                                  & 17                                                  & 13                                                  & 41.98368                                            & -87.73197                                           & (41.983680361597564, -87.7319663736746)            \\\\\n",
       "\t 01/01/2011                                          & Completed - Dup                                     & 01/07/2011                                          & 11-00002779                                         & Abandoned Vehicle Complaint                         & REAR PLATE STARTS W/848 AND FRONT PLATE STARTS W/ K & Isuzu                                               & Red                                                 &                                                     &                                                     & ⋯                                                   & 5629 N KEDVALE AVE                                  & 60646                                               & 1147717                                             & 1937054                                             & 39                                                  & 17                                                  & 13                                                  & 41.98368                                            & -87.73197                                           & (41.983680361597564, -87.7319663736746)            \\\\\n",
       "\t 01/01/2011                                          & Completed - Dup                                     & 01/20/2011                                          & 11-00003001                                         & Abandoned Vehicle Complaint                         & 9381880                                             & Toyota                                              & Silver                                              &                                                     &                                                     & ⋯                                                   & 2053 N KILBOURN AVE                                 & 60639                                               & 1146056                                             & 1913269                                             & 31                                                  & 25                                                  & 20                                                  & 41.91859                                            & -87.73868                                           & (41.91858774162382, -87.73868431751842)            \\\\\n",
       "\t 01/01/2011                                          & Completed - Dup                                     & 01/21/2011                                          & 11-00003309                                         & Abandoned Vehicle Complaint                         & MI S CS860                                          & Jeep/Cherokee                                       & Gold                                                &                                                     &                                                     & ⋯                                                   & 736 W BUENA AVE                                     & 60613                                               & 1170576                                             & 1928214                                             & 46                                                  & 23                                                  &  3                                                  & 41.95861                                            & -87.64888                                           & (41.95860696269331, -87.64887590959788)            \\\\\n",
       "\t 01/01/2011                                          & Completed - Dup                                     & 01/21/2011                                          & 11-00003316                                         & Abandoned Vehicle Complaint                         & MI SCS860                                           &                                                     & Gold                                                &                                                     &                                                     & ⋯                                                   & 736 W BUENA AVE                                     & 60613                                               & 1170576                                             & 1928214                                             & 46                                                  & 23                                                  &  3                                                  & 41.95861                                            & -87.64888                                           & (41.95860696269331, -87.64887590959788)            \\\\\n",
       "\t 01/01/2011                                          & Completed                                           & 01/05/2011                                          & 11-00001976                                         & Abandoned Vehicle Complaint                         & H924236                                             & Ford                                                & White                                               &                                                     &                                                     & ⋯                                                   & 6059 S KOMENSKY AVE                                 & 60629                                               & 1150408                                             & 1864110                                             & 13                                                  &  8                                                  & 65                                                  & 41.78237                                            & -87.72394                                           & (41.78237428405976, -87.72394038021173)            \\\\\n",
       "\\end{tabular}\n"
      ],
      "text/plain": [
       "  Creation.Date Status          Completion.Date Service.Request.Number\n",
       "1 01/01/2011    Completed - Dup 01/07/2011      11-00002767           \n",
       "2 01/01/2011    Completed - Dup 01/07/2011      11-00002779           \n",
       "3 01/01/2011    Completed - Dup 01/20/2011      11-00003001           \n",
       "4 01/01/2011    Completed - Dup 01/21/2011      11-00003309           \n",
       "5 01/01/2011    Completed - Dup 01/21/2011      11-00003316           \n",
       "6 01/01/2011    Completed       01/05/2011      11-00001976           \n",
       "  Type.of.Service.Request    \n",
       "1 Abandoned Vehicle Complaint\n",
       "2 Abandoned Vehicle Complaint\n",
       "3 Abandoned Vehicle Complaint\n",
       "4 Abandoned Vehicle Complaint\n",
       "5 Abandoned Vehicle Complaint\n",
       "6 Abandoned Vehicle Complaint\n",
       "  License.Plate                                       Vehicle.Make.Model\n",
       "1 0000000000                                          Jeep/Cherokee     \n",
       "2 REAR PLATE STARTS W/848 AND FRONT PLATE STARTS W/ K Isuzu             \n",
       "3 9381880                                             Toyota            \n",
       "4 MI S CS860                                          Jeep/Cherokee     \n",
       "5 MI SCS860                                                             \n",
       "6 H924236                                             Ford              \n",
       "  Vehicle.Color Current.Activity Most.Recent.Action ⋯ Street.Address     \n",
       "1 Red                                               ⋯ 5629 N KEDVALE AVE \n",
       "2 Red                                               ⋯ 5629 N KEDVALE AVE \n",
       "3 Silver                                            ⋯ 2053 N KILBOURN AVE\n",
       "4 Gold                                              ⋯ 736 W BUENA AVE    \n",
       "5 Gold                                              ⋯ 736 W BUENA AVE    \n",
       "6 White                                             ⋯ 6059 S KOMENSKY AVE\n",
       "  ZIP.Code X.Coordinate Y.Coordinate Ward Police.District Community.Area\n",
       "1 60646    1147717      1937054      39   17              13            \n",
       "2 60646    1147717      1937054      39   17              13            \n",
       "3 60639    1146056      1913269      31   25              20            \n",
       "4 60613    1170576      1928214      46   23               3            \n",
       "5 60613    1170576      1928214      46   23               3            \n",
       "6 60629    1150408      1864110      13    8              65            \n",
       "  Latitude Longitude Location                               \n",
       "1 41.98368 -87.73197 (41.983680361597564, -87.7319663736746)\n",
       "2 41.98368 -87.73197 (41.983680361597564, -87.7319663736746)\n",
       "3 41.91859 -87.73868 (41.91858774162382, -87.73868431751842)\n",
       "4 41.95861 -87.64888 (41.95860696269331, -87.64887590959788)\n",
       "5 41.95861 -87.64888 (41.95860696269331, -87.64887590959788)\n",
       "6 41.78237 -87.72394 (41.78237428405976, -87.72394038021173)"
      ]
     },
     "metadata": {},
     "output_type": "display_data"
    }
   ],
   "source": [
    "head(vehicall)"
   ]
  },
  {
   "cell_type": "markdown",
   "metadata": {},
   "source": [
    "### Create year and month variables as numeric"
   ]
  },
  {
   "cell_type": "markdown",
   "metadata": {},
   "source": [
    "Create a new variable **credate** that converts the **Creation.Date** to an R **date** format, which can then be easily manipulated by specialized packages. We will use **lubridate** which has very convenient functions **year** and **month**. These commands extract the corresponding items from a **Date** format and turn them into a numeric value. This package also has many other convenient data manipulation functions, but those are beyond our scope here.\n",
    "\n",
    "- first we create the variable in a data format using **as.Date**, we specify the variable as **Creation.Date**\n",
    "and the format as **%m/%d/%Y** given what is used in the initial file (month/day/year in four digits) \n",
    "\n",
    "- if you are unfamiliar with R, note the use of the dollar sign to specify a variable in a given data frame; it may seem strange at first, but you will quickly get used to it\n",
    "\n",
    "- again, we make sure all works as expected by listing the first few lines using **head**"
   ]
  },
  {
   "cell_type": "code",
   "execution_count": 4,
   "metadata": {
    "collapsed": false
   },
   "outputs": [
    {
     "data": {
      "text/plain": [
       "[1] \"2011-01-01\" \"2011-01-01\" \"2011-01-01\" \"2011-01-01\" \"2011-01-01\"\n",
       "[6] \"2011-01-01\""
      ]
     },
     "metadata": {},
     "output_type": "display_data"
    }
   ],
   "source": [
    "vehicall$credate <- as.Date(vehicall$Creation.Date,\"%m/%d/%Y\")\n",
    "head(vehicall$credate)"
   ]
  },
  {
   "cell_type": "markdown",
   "metadata": {},
   "source": [
    "Make the **lubridate** package active with the **library** command (make sure the package is installed, if not, install it with **install.packages**)"
   ]
  },
  {
   "cell_type": "code",
   "execution_count": 5,
   "metadata": {
    "collapsed": false
   },
   "outputs": [
    {
     "name": "stderr",
     "output_type": "stream",
     "text": [
      "\n",
      "Attaching package: ‘lubridate’\n",
      "\n",
      "The following object is masked from ‘package:base’:\n",
      "\n",
      "    date\n",
      "\n"
     ]
    }
   ],
   "source": [
    "library(lubridate)"
   ]
  },
  {
   "cell_type": "markdown",
   "metadata": {},
   "source": [
    "We create two new variables, one for the year and one for the month by using the respective functions **year** and **month** from the **lubridate** package. Again, we will use **head** to check that all is OK."
   ]
  },
  {
   "cell_type": "code",
   "execution_count": 6,
   "metadata": {
    "collapsed": false
   },
   "outputs": [
    {
     "data": {
      "text/html": [
       "<ol class=list-inline>\n",
       "\t<li>2011</li>\n",
       "\t<li>2011</li>\n",
       "\t<li>2011</li>\n",
       "\t<li>2011</li>\n",
       "\t<li>2011</li>\n",
       "\t<li>2011</li>\n",
       "</ol>\n"
      ],
      "text/latex": [
       "\\begin{enumerate*}\n",
       "\\item 2011\n",
       "\\item 2011\n",
       "\\item 2011\n",
       "\\item 2011\n",
       "\\item 2011\n",
       "\\item 2011\n",
       "\\end{enumerate*}\n"
      ],
      "text/markdown": [
       "1. 2011\n",
       "2. 2011\n",
       "3. 2011\n",
       "4. 2011\n",
       "5. 2011\n",
       "6. 2011\n",
       "\n",
       "\n"
      ],
      "text/plain": [
       "[1] 2011 2011 2011 2011 2011 2011"
      ]
     },
     "metadata": {},
     "output_type": "display_data"
    }
   ],
   "source": [
    "vehicall$year <- year(vehicall$credate)\n",
    "head(vehicall$year)"
   ]
  },
  {
   "cell_type": "code",
   "execution_count": 7,
   "metadata": {
    "collapsed": false
   },
   "outputs": [
    {
     "data": {
      "text/html": [
       "<ol class=list-inline>\n",
       "\t<li>1</li>\n",
       "\t<li>1</li>\n",
       "\t<li>1</li>\n",
       "\t<li>1</li>\n",
       "\t<li>1</li>\n",
       "\t<li>1</li>\n",
       "</ol>\n"
      ],
      "text/latex": [
       "\\begin{enumerate*}\n",
       "\\item 1\n",
       "\\item 1\n",
       "\\item 1\n",
       "\\item 1\n",
       "\\item 1\n",
       "\\item 1\n",
       "\\end{enumerate*}\n"
      ],
      "text/markdown": [
       "1. 1\n",
       "2. 1\n",
       "3. 1\n",
       "4. 1\n",
       "5. 1\n",
       "6. 1\n",
       "\n",
       "\n"
      ],
      "text/plain": [
       "[1] 1 1 1 1 1 1"
      ]
     },
     "metadata": {},
     "output_type": "display_data"
    }
   ],
   "source": [
    "vehicall$month <- month(vehicall$credate)\n",
    "head(vehicall$month)"
   ]
  },
  {
   "cell_type": "markdown",
   "metadata": {},
   "source": [
    "### Select observations for a given month/year"
   ]
  },
  {
   "cell_type": "markdown",
   "metadata": {},
   "source": [
    "Now, we will use the very powerful R **[ , ]** subsetting commands to extract only those observations that match the\n",
    "year and month criteria. For example, to select the observations (rows) for September 2015, we use **year == 2015**\n",
    "and **month == 9**. We put each statement in parentheses for clarity, but that is not necessary. Make sure not to \n",
    "forget the **\",\"** followed by space before the closing bracket: this ensures that all the variables (columns) are\n",
    "selected.\n",
    "\n",
    "Again, we use **head** to see the first lines. In addition, we also use the **dim** command to show the dimensions of the resulting data frame. "
   ]
  },
  {
   "cell_type": "code",
   "execution_count": 8,
   "metadata": {
    "collapsed": false
   },
   "outputs": [
    {
     "data": {
      "text/html": [
       "<table>\n",
       "<thead><tr><th></th><th scope=col>Creation.Date</th><th scope=col>Status</th><th scope=col>Completion.Date</th><th scope=col>Service.Request.Number</th><th scope=col>Type.of.Service.Request</th><th scope=col>License.Plate</th><th scope=col>Vehicle.Make.Model</th><th scope=col>Vehicle.Color</th><th scope=col>Current.Activity</th><th scope=col>Most.Recent.Action</th><th scope=col>⋯</th><th scope=col>Y.Coordinate</th><th scope=col>Ward</th><th scope=col>Police.District</th><th scope=col>Community.Area</th><th scope=col>Latitude</th><th scope=col>Longitude</th><th scope=col>Location</th><th scope=col>credate</th><th scope=col>year</th><th scope=col>month</th></tr></thead>\n",
       "<tbody>\n",
       "\t<tr><th scope=row>107034</th><td>09/01/2015                                       </td><td>Completed                                        </td><td>09/01/2015                                       </td><td>15-04497171                                      </td><td>Abandoned Vehicle Complaint                      </td><td>E671293                                          </td><td>Chevrolet                                        </td><td>Black                                            </td><td>FVI - Outcome                                    </td><td>Return to Owner - Vehicle                        </td><td>⋯                                                </td><td>     NA                                          </td><td> 3                                               </td><td> 9                                               </td><td>37                                               </td><td>41.79584                                         </td><td>-87.63289                                        </td><td>(41.7958353436477, -87.63288785584677)           </td><td>2015-09-01                                       </td><td>2015                                             </td><td>9                                                </td></tr>\n",
       "\t<tr><th scope=row>107035</th><td>09/01/2015                                       </td><td>Completed                                        </td><td>09/01/2015                                       </td><td>15-04499490                                      </td><td>Abandoned Vehicle Complaint                      </td><td>UNKNOWN                                          </td><td>Jeep/Cherokee                                    </td><td>Gray                                             </td><td>FVI - Outcome                                    </td><td>Vehicle was moved from original address requested</td><td>⋯                                                </td><td>     NA                                          </td><td>49                                               </td><td>24                                               </td><td> 1                                               </td><td>42.01450                                         </td><td>-87.67822                                        </td><td>(42.01449699912976, -87.67822416417681)          </td><td>2015-09-01                                       </td><td>2015                                             </td><td>9                                                </td></tr>\n",
       "\t<tr><th scope=row>107036</th><td>09/01/2015                                       </td><td>Completed                                        </td><td>09/01/2015                                       </td><td>15-04501261                                      </td><td>Abandoned Vehicle Complaint                      </td><td>N/A                                              </td><td>(Unlisted Make)                                  </td><td>Black                                            </td><td>FVI - Outcome                                    </td><td>Return to Owner - Vehicle                        </td><td>⋯                                                </td><td>     NA                                          </td><td>27                                               </td><td>12                                               </td><td>28                                               </td><td>41.88544                                         </td><td>-87.66681                                        </td><td>(41.88544236574685, -87.66680842588522)          </td><td>2015-09-01                                       </td><td>2015                                             </td><td>9                                                </td></tr>\n",
       "\t<tr><th scope=row>107119</th><td>09/02/2015                                       </td><td>Completed - Dup                                  </td><td>09/02/2015                                       </td><td>15-04520641                                      </td><td>Abandoned Vehicle Complaint                      </td><td>9856420                                          </td><td>Honda                                            </td><td>Blue                                             </td><td>FVI - Outcome                                    </td><td>Create Work Order                                </td><td>⋯                                                </td><td>1877350                                          </td><td> 4                                               </td><td> 2                                               </td><td>36                                               </td><td>41.81816                                         </td><td>-87.60088                                        </td><td>(41.81816098393261, -87.6008847868268)           </td><td>2015-09-02                                       </td><td>2015                                             </td><td>9                                                </td></tr>\n",
       "\t<tr><th scope=row>107120</th><td>09/02/2015                                       </td><td>Completed - Dup                                  </td><td>09/02/2015                                       </td><td>15-04522485                                      </td><td>Abandoned Vehicle Complaint                      </td><td>6401667                                          </td><td>Buick                                            </td><td>Cream                                            </td><td>FVI - Outcome                                    </td><td>Create Work Order                                </td><td>⋯                                                </td><td>1858880                                          </td><td> 5                                               </td><td> 3                                               </td><td>43                                               </td><td>41.76780                                         </td><td>-87.58582                                        </td><td>(41.76779762303839, -87.58581991823232)          </td><td>2015-09-02                                       </td><td>2015                                             </td><td>9                                                </td></tr>\n",
       "\t<tr><th scope=row>107121</th><td>09/02/2015                                       </td><td>Completed - Dup                                  </td><td>09/02/2015                                       </td><td>15-04525443                                      </td><td>Abandoned Vehicle Complaint                      </td><td>UNKNOWN                                          </td><td>Buick                                            </td><td>Blue                                             </td><td>FVI - Outcome                                    </td><td>Create Work Order                                </td><td>⋯                                                </td><td>1905690                                          </td><td>26                                               </td><td>12                                               </td><td>24                                               </td><td>41.89728                                         </td><td>-87.68703                                        </td><td>(41.897281897854185, -87.68702748042514)         </td><td>2015-09-02                                       </td><td>2015                                             </td><td>9                                                </td></tr>\n",
       "</tbody>\n",
       "</table>\n"
      ],
      "text/latex": [
       "\\begin{tabular}{r|llllllllllllllllllllllll}\n",
       "  & Creation.Date & Status & Completion.Date & Service.Request.Number & Type.of.Service.Request & License.Plate & Vehicle.Make.Model & Vehicle.Color & Current.Activity & Most.Recent.Action & ⋯ & Y.Coordinate & Ward & Police.District & Community.Area & Latitude & Longitude & Location & credate & year & month\\\\\n",
       "\\hline\n",
       "\t107034 & 09/01/2015                                        & Completed                                         & 09/01/2015                                        & 15-04497171                                       & Abandoned Vehicle Complaint                       & E671293                                           & Chevrolet                                         & Black                                             & FVI - Outcome                                     & Return to Owner - Vehicle                         & ⋯                                                 &      NA                                           &  3                                                &  9                                                & 37                                                & 41.79584                                          & -87.63289                                         & (41.7958353436477, -87.63288785584677)            & 2015-09-01                                        & 2015                                              & 9                                                \\\\\n",
       "\t107035 & 09/01/2015                                        & Completed                                         & 09/01/2015                                        & 15-04499490                                       & Abandoned Vehicle Complaint                       & UNKNOWN                                           & Jeep/Cherokee                                     & Gray                                              & FVI - Outcome                                     & Vehicle was moved from original address requested & ⋯                                                 &      NA                                           & 49                                                & 24                                                &  1                                                & 42.01450                                          & -87.67822                                         & (42.01449699912976, -87.67822416417681)           & 2015-09-01                                        & 2015                                              & 9                                                \\\\\n",
       "\t107036 & 09/01/2015                                        & Completed                                         & 09/01/2015                                        & 15-04501261                                       & Abandoned Vehicle Complaint                       & N/A                                               & (Unlisted Make)                                   & Black                                             & FVI - Outcome                                     & Return to Owner - Vehicle                         & ⋯                                                 &      NA                                           & 27                                                & 12                                                & 28                                                & 41.88544                                          & -87.66681                                         & (41.88544236574685, -87.66680842588522)           & 2015-09-01                                        & 2015                                              & 9                                                \\\\\n",
       "\t107119 & 09/02/2015                                        & Completed - Dup                                   & 09/02/2015                                        & 15-04520641                                       & Abandoned Vehicle Complaint                       & 9856420                                           & Honda                                             & Blue                                              & FVI - Outcome                                     & Create Work Order                                 & ⋯                                                 & 1877350                                           &  4                                                &  2                                                & 36                                                & 41.81816                                          & -87.60088                                         & (41.81816098393261, -87.6008847868268)            & 2015-09-02                                        & 2015                                              & 9                                                \\\\\n",
       "\t107120 & 09/02/2015                                        & Completed - Dup                                   & 09/02/2015                                        & 15-04522485                                       & Abandoned Vehicle Complaint                       & 6401667                                           & Buick                                             & Cream                                             & FVI - Outcome                                     & Create Work Order                                 & ⋯                                                 & 1858880                                           &  5                                                &  3                                                & 43                                                & 41.76780                                          & -87.58582                                         & (41.76779762303839, -87.58581991823232)           & 2015-09-02                                        & 2015                                              & 9                                                \\\\\n",
       "\t107121 & 09/02/2015                                        & Completed - Dup                                   & 09/02/2015                                        & 15-04525443                                       & Abandoned Vehicle Complaint                       & UNKNOWN                                           & Buick                                             & Blue                                              & FVI - Outcome                                     & Create Work Order                                 & ⋯                                                 & 1905690                                           & 26                                                & 12                                                & 24                                                & 41.89728                                          & -87.68703                                         & (41.897281897854185, -87.68702748042514)          & 2015-09-02                                        & 2015                                              & 9                                                \\\\\n",
       "\\end{tabular}\n"
      ],
      "text/plain": [
       "       Creation.Date Status          Completion.Date Service.Request.Number\n",
       "107034 09/01/2015    Completed       09/01/2015      15-04497171           \n",
       "107035 09/01/2015    Completed       09/01/2015      15-04499490           \n",
       "107036 09/01/2015    Completed       09/01/2015      15-04501261           \n",
       "107119 09/02/2015    Completed - Dup 09/02/2015      15-04520641           \n",
       "107120 09/02/2015    Completed - Dup 09/02/2015      15-04522485           \n",
       "107121 09/02/2015    Completed - Dup 09/02/2015      15-04525443           \n",
       "       Type.of.Service.Request     License.Plate Vehicle.Make.Model\n",
       "107034 Abandoned Vehicle Complaint E671293       Chevrolet         \n",
       "107035 Abandoned Vehicle Complaint UNKNOWN       Jeep/Cherokee     \n",
       "107036 Abandoned Vehicle Complaint N/A           (Unlisted Make)   \n",
       "107119 Abandoned Vehicle Complaint 9856420       Honda             \n",
       "107120 Abandoned Vehicle Complaint 6401667       Buick             \n",
       "107121 Abandoned Vehicle Complaint UNKNOWN       Buick             \n",
       "       Vehicle.Color Current.Activity\n",
       "107034 Black         FVI - Outcome   \n",
       "107035 Gray          FVI - Outcome   \n",
       "107036 Black         FVI - Outcome   \n",
       "107119 Blue          FVI - Outcome   \n",
       "107120 Cream         FVI - Outcome   \n",
       "107121 Blue          FVI - Outcome   \n",
       "       Most.Recent.Action                                ⋯ Y.Coordinate Ward\n",
       "107034 Return to Owner - Vehicle                         ⋯      NA       3  \n",
       "107035 Vehicle was moved from original address requested ⋯      NA      49  \n",
       "107036 Return to Owner - Vehicle                         ⋯      NA      27  \n",
       "107119 Create Work Order                                 ⋯ 1877350       4  \n",
       "107120 Create Work Order                                 ⋯ 1858880       5  \n",
       "107121 Create Work Order                                 ⋯ 1905690      26  \n",
       "       Police.District Community.Area Latitude Longitude\n",
       "107034  9              37             41.79584 -87.63289\n",
       "107035 24               1             42.01450 -87.67822\n",
       "107036 12              28             41.88544 -87.66681\n",
       "107119  2              36             41.81816 -87.60088\n",
       "107120  3              43             41.76780 -87.58582\n",
       "107121 12              24             41.89728 -87.68703\n",
       "       Location                                 credate    year month\n",
       "107034 (41.7958353436477, -87.63288785584677)   2015-09-01 2015 9    \n",
       "107035 (42.01449699912976, -87.67822416417681)  2015-09-01 2015 9    \n",
       "107036 (41.88544236574685, -87.66680842588522)  2015-09-01 2015 9    \n",
       "107119 (41.81816098393261, -87.6008847868268)   2015-09-02 2015 9    \n",
       "107120 (41.76779762303839, -87.58581991823232)  2015-09-02 2015 9    \n",
       "107121 (41.897281897854185, -87.68702748042514) 2015-09-02 2015 9    "
      ]
     },
     "metadata": {},
     "output_type": "display_data"
    },
    {
     "data": {
      "text/html": [
       "<ol class=list-inline>\n",
       "\t<li>2220</li>\n",
       "\t<li>24</li>\n",
       "</ol>\n"
      ],
      "text/latex": [
       "\\begin{enumerate*}\n",
       "\\item 2220\n",
       "\\item 24\n",
       "\\end{enumerate*}\n"
      ],
      "text/markdown": [
       "1. 2220\n",
       "2. 24\n",
       "\n",
       "\n"
      ],
      "text/plain": [
       "[1] 2220   24"
      ]
     },
     "metadata": {},
     "output_type": "display_data"
    }
   ],
   "source": [
    "abandon_15_9 <- vehicall[ (vehicall$year == 2015) & (vehicall$month == 9), ]\n",
    "head(abandon_15_9)\n",
    "dim(abandon_15_9)"
   ]
  },
  {
   "cell_type": "markdown",
   "metadata": {},
   "source": [
    "In this example, there are 2220 abandoned vehicles with a time stamp of September 2015, and 24 variables in the data frame."
   ]
  },
  {
   "cell_type": "markdown",
   "metadata": {},
   "source": [
    "### Select desired variables"
   ]
  },
  {
   "cell_type": "markdown",
   "metadata": {},
   "source": [
    "We will select only a few of the variables. Besides the data stamps, we will keep the **Ward**, **Police.District**,\n",
    "**Comunity.Area**, **Latitude** and **Longitude**.\n",
    "\n",
    "First, we create a vector that contains all these variable names (using the omnipresent **c** command). Note how\n",
    "the variables names have to be in quotes (they are string variables)."
   ]
  },
  {
   "cell_type": "code",
   "execution_count": 9,
   "metadata": {
    "collapsed": true
   },
   "outputs": [],
   "source": [
    "vehvariables <- c(\"year\",\"month\",\"credate\",\"Ward\",\"Police.District\",\"Community.Area\",\"Latitude\",\"Longitude\")"
   ]
  },
  {
   "cell_type": "markdown",
   "metadata": {},
   "source": [
    "Now, we do the column selection using the **[ , ]** subsetting of the data frame. In order to use the variable\n",
    "names as listed in **vehvariables** (and to avoid having to type the data frame name with a dollar symbol for\n",
    "each variable), we use the **with** command. This specifies the data frame on which the commands are to operate.\n",
    "It is an alternative to the more traditional **attach** and **detach** convention. You specify the name of\n",
    "the data frame to be used, followed by the command, in this case the subsetting. Again, note the importance\n",
    "of having the comma with an empty space in front of it to specify that all rows are to be selected."
   ]
  },
  {
   "cell_type": "code",
   "execution_count": 10,
   "metadata": {
    "collapsed": true
   },
   "outputs": [],
   "source": [
    "veh2015_9 <- with(abandon_15_9,abandon_15_9[,vehvariables])"
   ]
  },
  {
   "cell_type": "code",
   "execution_count": 11,
   "metadata": {
    "collapsed": false
   },
   "outputs": [
    {
     "data": {
      "text/html": [
       "<table>\n",
       "<thead><tr><th></th><th scope=col>year</th><th scope=col>month</th><th scope=col>credate</th><th scope=col>Ward</th><th scope=col>Police.District</th><th scope=col>Community.Area</th><th scope=col>Latitude</th><th scope=col>Longitude</th></tr></thead>\n",
       "<tbody>\n",
       "\t<tr><th scope=row>107034</th><td>2015      </td><td>9         </td><td>2015-09-01</td><td> 3        </td><td> 9        </td><td>37        </td><td>41.79584  </td><td>-87.63289 </td></tr>\n",
       "\t<tr><th scope=row>107035</th><td>2015      </td><td>9         </td><td>2015-09-01</td><td>49        </td><td>24        </td><td> 1        </td><td>42.01450  </td><td>-87.67822 </td></tr>\n",
       "\t<tr><th scope=row>107036</th><td>2015      </td><td>9         </td><td>2015-09-01</td><td>27        </td><td>12        </td><td>28        </td><td>41.88544  </td><td>-87.66681 </td></tr>\n",
       "\t<tr><th scope=row>107119</th><td>2015      </td><td>9         </td><td>2015-09-02</td><td> 4        </td><td> 2        </td><td>36        </td><td>41.81816  </td><td>-87.60088 </td></tr>\n",
       "\t<tr><th scope=row>107120</th><td>2015      </td><td>9         </td><td>2015-09-02</td><td> 5        </td><td> 3        </td><td>43        </td><td>41.76780  </td><td>-87.58582 </td></tr>\n",
       "\t<tr><th scope=row>107121</th><td>2015      </td><td>9         </td><td>2015-09-02</td><td>26        </td><td>12        </td><td>24        </td><td>41.89728  </td><td>-87.68703 </td></tr>\n",
       "</tbody>\n",
       "</table>\n"
      ],
      "text/latex": [
       "\\begin{tabular}{r|llllllll}\n",
       "  & year & month & credate & Ward & Police.District & Community.Area & Latitude & Longitude\\\\\n",
       "\\hline\n",
       "\t107034 & 2015       & 9          & 2015-09-01 &  3         &  9         & 37         & 41.79584   & -87.63289 \\\\\n",
       "\t107035 & 2015       & 9          & 2015-09-01 & 49         & 24         &  1         & 42.01450   & -87.67822 \\\\\n",
       "\t107036 & 2015       & 9          & 2015-09-01 & 27         & 12         & 28         & 41.88544   & -87.66681 \\\\\n",
       "\t107119 & 2015       & 9          & 2015-09-02 &  4         &  2         & 36         & 41.81816   & -87.60088 \\\\\n",
       "\t107120 & 2015       & 9          & 2015-09-02 &  5         &  3         & 43         & 41.76780   & -87.58582 \\\\\n",
       "\t107121 & 2015       & 9          & 2015-09-02 & 26         & 12         & 24         & 41.89728   & -87.68703 \\\\\n",
       "\\end{tabular}\n"
      ],
      "text/plain": [
       "       year month credate    Ward Police.District Community.Area Latitude\n",
       "107034 2015 9     2015-09-01  3    9              37             41.79584\n",
       "107035 2015 9     2015-09-01 49   24               1             42.01450\n",
       "107036 2015 9     2015-09-01 27   12              28             41.88544\n",
       "107119 2015 9     2015-09-02  4    2              36             41.81816\n",
       "107120 2015 9     2015-09-02  5    3              43             41.76780\n",
       "107121 2015 9     2015-09-02 26   12              24             41.89728\n",
       "       Longitude\n",
       "107034 -87.63289\n",
       "107035 -87.67822\n",
       "107036 -87.66681\n",
       "107119 -87.60088\n",
       "107120 -87.58582\n",
       "107121 -87.68703"
      ]
     },
     "metadata": {},
     "output_type": "display_data"
    },
    {
     "data": {
      "text/html": [
       "<ol class=list-inline>\n",
       "\t<li>2220</li>\n",
       "\t<li>8</li>\n",
       "</ol>\n"
      ],
      "text/latex": [
       "\\begin{enumerate*}\n",
       "\\item 2220\n",
       "\\item 8\n",
       "\\end{enumerate*}\n"
      ],
      "text/markdown": [
       "1. 2220\n",
       "2. 8\n",
       "\n",
       "\n"
      ],
      "text/plain": [
       "[1] 2220    8"
      ]
     },
     "metadata": {},
     "output_type": "display_data"
    }
   ],
   "source": [
    "head(veh2015_9)\n",
    "dim(veh2015_9)"
   ]
  },
  {
   "cell_type": "markdown",
   "metadata": {},
   "source": [
    "Now, there are only 8 variables left out of the original 24."
   ]
  },
  {
   "cell_type": "markdown",
   "metadata": {},
   "source": [
    "### Write a new csv file"
   ]
  },
  {
   "cell_type": "markdown",
   "metadata": {},
   "source": [
    "We use the **write.csv** command, specifying the data frame and its file name. Note the importance ot setting\n",
    "**row.names = FALSE** or else the original sequence numbers are added to the output file (those numbers appearing\n",
    "in the left-most column of the data frame listing above). We will add our own identifier later in **GeoDa**.\n",
    "\n",
    "Note: if a file with the specified file name already exists, it will be over-written."
   ]
  },
  {
   "cell_type": "code",
   "execution_count": 12,
   "metadata": {
    "collapsed": true
   },
   "outputs": [],
   "source": [
    "write.csv(veh2015_9,\"vehicles2015_9.csv\",row.names=FALSE)"
   ]
  },
  {
   "cell_type": "code",
   "execution_count": null,
   "metadata": {
    "collapsed": true
   },
   "outputs": [],
   "source": []
  }
 ],
 "metadata": {
  "kernelspec": {
   "display_name": "R",
   "language": "R",
   "name": "ir"
  },
  "language_info": {
   "codemirror_mode": "r",
   "file_extension": ".r",
   "mimetype": "text/x-r-source",
   "name": "R",
   "pygments_lexer": "r",
   "version": "3.3.0"
  }
 },
 "nbformat": 4,
 "nbformat_minor": 0
}
