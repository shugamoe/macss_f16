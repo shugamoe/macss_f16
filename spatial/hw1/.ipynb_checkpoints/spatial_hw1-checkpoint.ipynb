{
 "cells": [
  {
   "cell_type": "markdown",
   "metadata": {},
   "source": [
    "## Introduction to Spatial Data Science\n",
    "## Assignment 1\n",
    "## Julian McClellan"
   ]
  },
  {
   "cell_type": "markdown",
   "metadata": {},
   "source": [
    "For the assignment I utilized the [Average Daily Traffic Count Dataset](https://data.cityofchicago.org/api/views/pfsx-4n4m/rows.csv?accessType=DOWNLOAD). The source of the data is a number of traffic sensors embedded in streets around Chicago, but only in 7 neighborhoods. (Loop, Near West Side, Near North Side, Near South Side, West Town, Lower West Side, Armour Square.) The main variable of interest was the 'Total Passing Vehicle Volume', but I also utilized (of course) the Longitude and Latitude coordinates of each sensor  in order to create the point map of the vehicle sensor locations. The point map below was created by importing the raw CSV from the open data portal and utilizing the points from table feature in GeoDa."
   ]
  },
  {
   "cell_type": "markdown",
   "metadata": {},
   "source": [
    "![Point Map of Daily Vehicle Volume Sensors](files/sensors_point_map.png)"
   ]
  },
  {
   "cell_type": "markdown",
   "metadata": {},
   "source": [
    "Of course, however, a point map of all the traffic sensors included in the data set does not utilize the Total Passing Vehicle Volume variable. I had planned on utilizing the same .geojson file as was used in the lab to create a Choropleth Map utilizing the Vehicle Volume variable, however, the dataset did not include corresponding neighborhood codes (1-77). Luckily, each neighborhood in the geojson file did contain a set of GPS coordinates that constituted the geometry of the neighborhood, and utilizing a brief python script, I was able to assign neighborhood codes to each traffic sensor observation in the dataset, aggregate the total vehicle volume for each neighborhood and incorporate this new information into the geojson file.\n",
    "\n",
    "I was then able to create a (8) natural breaks Choropleth map of the daily vehicle volume by neighborhood."
   ]
  },
  {
   "cell_type": "markdown",
   "metadata": {},
   "source": [
    "![Choropleth Map of Daily Vehicle Volume](files/total_traf_vol.png)"
   ]
  },
  {
   "cell_type": "markdown",
   "metadata": {},
   "source": [
    "As one can see, there are 8 breaks in the map. 1 for the 70 neighborhoods that do not contain traffic sensors, and 1 for each of the 7 neighborhoods that do contain traffic sensors. The map shows us that the Loop neighborhood, the darkest one, has the highest total traffic volume. However, this map does not tell us the distribution of the traffic sensors. Thus, I modified the python script to aggregate the number of traffic sensors per neighborhood to create maps of both the total number of traffic sensors in each neighborhood, but also the average vehicles/sensor in a given neighborhood."
   ]
  },
  {
   "cell_type": "markdown",
   "metadata": {},
   "source": [
    "![Choropleth Map of Average Vehicle Volume per Sensor](files/num_sensors.png)"
   ]
  },
  {
   "cell_type": "markdown",
   "metadata": {},
   "source": [
    "![Choropleth Map of Average Vehicle Volume per Sensor](files/traf_per_sensor.png)"
   ]
  },
  {
   "cell_type": "markdown",
   "metadata": {},
   "source": [
    "These second two choropleth maps show us that although the Loop has the highest traffic daily traffic volume, it seems to be partially due to the fact that it also has the highest number of traffic sensors (choropleth 2). The 3rd choropleth map shows us that it is actually the Near South Side neighborhood that has the highest average vehicle volume per sensor.\n",
    "\n",
    "Also note that we see that the Armour Square neighborhood (adjacent and SW of Near South Side) only contains one traffic sensor.\n",
    "\n",
    "Given the relatively tight clustering of the traffic sensors in either the Loop or neighborhoods adjacent or near to the Loop, and the relatively simplistic nature of the point and choropleth maps utilized, there are relatively few distinct patterns to point out. As mentioned earlier, the Loop, as the address numbering center of the city, has the highest measured daily vehicle volume. Yet, a map of vehicle volume per traffic sensor in each neighborhood actually shows us that other neighborhoods have busier sensors, on average. \n",
    "\n",
    "The third choropleth map might also indicate that the most concentrated areas of vehicle travel occur not in the Loop, but in the Near South Side (as mentioned earlier), but also in the West Town and Near North Side neighborhoods (top left and right colored neighborhoods respectively). This leads me to believe that these three neighborhoods likely contain the most utilized communter routes to the Loop (or perhaps elsewhere). Perhaps when I learn to use more precise tools (utilizing street level data instead of neighborhood shapes), I could investigate that hypothesis. The dataset I used also split up the vehicle volume per sensor by N/S and E/W directions of travel, which could aid in answering commuting related questions. (Note, however, that time of observations is absent, as the sensor numbers are simply daily averages.)"
   ]
  }
 ],
 "metadata": {
  "anaconda-cloud": {},
  "kernelspec": {
   "display_name": "Python [Root]",
   "language": "python",
   "name": "Python [Root]"
  },
  "language_info": {
   "codemirror_mode": {
    "name": "ipython",
    "version": 3
   },
   "file_extension": ".py",
   "mimetype": "text/x-python",
   "name": "python",
   "nbconvert_exporter": "python",
   "pygments_lexer": "ipython3",
   "version": "3.5.2"
  }
 },
 "nbformat": 4,
 "nbformat_minor": 0
}
